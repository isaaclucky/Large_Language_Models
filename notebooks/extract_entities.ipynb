{
 "cells": [
  {
   "cell_type": "code",
   "execution_count": 1,
   "metadata": {},
   "outputs": [],
   "source": [
    "import pandas as pd\n",
    "import json"
   ]
  },
  {
   "cell_type": "code",
   "execution_count": 2,
   "metadata": {},
   "outputs": [],
   "source": [
    "f = open('../data/train.json')\n",
    "data=json.load(f)\n",
    "f = open('../data/test.json')\n",
    "test=json.load(f)\n"
   ]
  },
  {
   "cell_type": "code",
   "execution_count": 3,
   "metadata": {},
   "outputs": [],
   "source": [
    "sys.path.append(os.path.abspath(os.path.join('../scripts/')))\n",
    "\n",
    "from prep_data import preprocess\n",
    "from extract_entities import extract_entities\n"
   ]
  },
  {
   "cell_type": "code",
   "execution_count": 4,
   "metadata": {},
   "outputs": [],
   "source": [
    "prep = preprocess(data)"
   ]
  },
  {
   "cell_type": "code",
   "execution_count": 5,
   "metadata": {},
   "outputs": [],
   "source": [
    "def prepare_prompt(data,prompt_data):\n",
    "    prompt = prompt_data['document']\n",
    "    if len(data)==0:\n",
    "        return 'extract entities from the following paragraphs?\\n' + prompt + '\\nExtracted Features:'\n",
    "    if type(data) == list:\n",
    "        p = preprocess(data)\n",
    "    else: p = preprocess([data])\n",
    "        \n",
    "    \n",
    "    examples=[]\n",
    "    # data = [data]\n",
    "    for i in range(len(data)):\n",
    "        examples.append(p.get_final_template(i))\n",
    "    final = 'extract entities from the following paragraphs?\\n' + '\\n--\\n'.join(examples) + '\\n--\\n'+ prompt + '\\nExtracted Features:'\n",
    "    return final\n",
    "    "
   ]
  },
  {
   "cell_type": "code",
   "execution_count": null,
   "metadata": {},
   "outputs": [],
   "source": []
  },
  {
   "cell_type": "code",
   "execution_count": 6,
   "metadata": {},
   "outputs": [],
   "source": [
    "def optimal_example(data,start,end):\n",
    "    #compute the accuracy values for each size of data\n",
    "    # let's select the last data as a test data\n",
    "    query = data[-2]\n",
    "    extract = extract_entities()\n",
    "    prep = preprocess([query])\n",
    "    result = prep.get_entities(0)\n",
    "    r = prep.get_final_template(0).replace('description:'+result['document']+'\\nExtracted Features:\\n','')\n",
    "    del(result['document'])\n",
    "    \n",
    "    accuracy = []\n",
    "    examples = []\n",
    "    print('label: ')\n",
    "    print(r)\n",
    "    for i in range(start,end):\n",
    "        examples.append(i+1)\n",
    "        prompt = prepare_prompt(data[:i+1],query)\n",
    "        res = extract.predict(prompt)\n",
    "        res_prep = extract.get_feature(res)\n",
    "        acc = extract.evaluate(prediction=res_prep,result=result)\n",
    "        accuracy.append(acc)\n",
    "        print('-------------\\nexample size:{} '.format(i+1))\n",
    "        print(res)\n",
    "    # return [examples,accuracy]\n",
    "        "
   ]
  },
  {
   "cell_type": "code",
   "execution_count": 7,
   "metadata": {},
   "outputs": [
    {
     "name": "stdout",
     "output_type": "stream",
     "text": [
      "{'document': 'A successful member of our team will have: 5 + years of industry experience developing and implementing tools and applications at scale. BS/MS in Computer Science or equivalent industry experience. Demonstrated CS fundamentals with a deep appreciation for the differences between platforms and environments. Demonstrated technical design, problem solving and debugging skills. Unwavering passion to understand and simplify the developer experience. Fantastic communication skills. A track record of working collaboratively to understand customer needs and create solutions that positively impact our customers.', 'tokens': [{'text': '5 + years', 'start': 43, 'end': 52, 'token_start': 9, 'token_end': 11, 'entityLabel': 'EXPERIENCE'}, {'text': 'industry', 'start': 56, 'end': 64, 'token_start': 13, 'token_end': 13, 'entityLabel': 'SKILLS'}, {'text': 'developing and implementing tools', 'start': 76, 'end': 109, 'token_start': 15, 'token_end': 18, 'entityLabel': 'SKILLS'}, {'text': 'BS/MS', 'start': 137, 'end': 142, 'token_start': 24, 'token_end': 26, 'entityLabel': 'DIPLOMA'}, {'text': 'Computer Science', 'start': 146, 'end': 162, 'token_start': 28, 'token_end': 29, 'entityLabel': 'DIPLOMA_MAJOR'}], 'relations': [{'child': 13, 'head': 9, 'relationLabel': 'EXPERIENCE_IN'}, {'child': 15, 'head': 9, 'relationLabel': 'EXPERIENCE_IN'}, {'child': 28, 'head': 24, 'relationLabel': 'DEGREE_IN'}]}\n"
     ]
    }
   ],
   "source": [
    "print(data[-2])\n"
   ]
  },
  {
   "cell_type": "code",
   "execution_count": 8,
   "metadata": {},
   "outputs": [
    {
     "name": "stdout",
     "output_type": "stream",
     "text": [
      "label: \n",
      "DIPLOMA: BS/MS\n",
      "DIPLOMA_MAJOR: Computer Science\n",
      "EXPERIENCE: 5 + years in industry\n",
      "SKILLS: industry, developing and implementing tools\n",
      "-------------\n",
      "example size:1 \n",
      "\n",
      "DIPLOMA: BS/MS\n",
      "DIPLOMA_MAJOR: Computer Science\n",
      "EXPERIENCE: 5+ years in developing\n",
      "SKILLS: developing, tools, applications, scale\n",
      "--\n",
      "-------------\n",
      "example size:2 \n",
      "\n",
      "DIPLOMA: BS/MS\n",
      "DIPLOMA_MAJOR: Computer Science\n",
      "EXPERIENCE: 5+ years in industry\n",
      "SKILLS: industry experience, developing and implementing tools and applications at scale\n",
      "-------------\n",
      "example size:3 \n",
      "\n",
      "DIPLOMA: BS/MS\n",
      "DIPLOMA_MAJOR: Computer Science\n",
      "EXPERIENCE: 5+ years of industry experience\n",
      "SKILLS: industry experience, CS fundamentals, technical design, problem\n",
      "-------------\n",
      "example size:4 \n",
      "\n",
      "DIPLOMA: BS/MS\n",
      "DIPLOMA_MAJOR: Computer Science\n",
      "EXPERIENCE: 5+ years in developing tools and applications at scale\n",
      "SKILLS: developing tools and applications at scale\n",
      "-------------\n",
      "example size:5 \n",
      "\n",
      "DIPLOMA: BS/MS\n",
      "DIPLOMA_MAJOR: Computer Science\n",
      "EXPERIENCE: 5+ years of industry experience\n",
      "SKILLS: developing and implementing tools and applications at scale\n",
      "--\n",
      "-------------\n",
      "example size:6 \n",
      "\n",
      "DIPLOMA: BS/MS\n",
      "DIPLOMA_MAJOR: Computer Science\n",
      "EXPERIENCE: 5+ years in industry experience\n",
      "SKILLS: technical design, problem solving, debugging\n",
      "--\n"
     ]
    }
   ],
   "source": [
    "optimal_example(data,start=0,end=6)\n"
   ]
  },
  {
   "cell_type": "code",
   "execution_count": 9,
   "metadata": {},
   "outputs": [
    {
     "name": "stdout",
     "output_type": "stream",
     "text": [
      "label: \n",
      "DIPLOMA: BS/MS\n",
      "DIPLOMA_MAJOR: Computer Science\n",
      "EXPERIENCE: 5 + years in industry\n",
      "SKILLS: industry, developing and implementing tools\n",
      "-------------\n",
      "example size:7 \n",
      "\n",
      "DIPLOMA: BS/MS\n",
      "DIPLOMA_MAJOR: Computer Science\n",
      "EXPERIENCE: 5+ years in industry\n",
      "SKILLS: industry, developing and implementing tools and applications, technical design\n",
      "-------------\n",
      "example size:8 \n",
      "\n",
      "DIPLOMA: BS/MS\n",
      "DIPLOMA_MAJOR: Computer Science\n",
      "EXPERIENCE: 5 + years in developing and implementing tools and applications at scale\n",
      "SKILLS: CS fundamentals\n",
      "--\n"
     ]
    },
    {
     "ename": "CohereError",
     "evalue": "too many tokens: total number of tokens (prompt and prediction) cannot exceed 2048 - received 2462. Try using a shorter prompt or a smaller max_tokens value.",
     "output_type": "error",
     "traceback": [
      "\u001b[0;31m---------------------------------------------------------------------------\u001b[0m",
      "\u001b[0;31mCohereError\u001b[0m                               Traceback (most recent call last)",
      "\u001b[0;32m/tmp/ipykernel_99596/3157006689.py\u001b[0m in \u001b[0;36m<module>\u001b[0;34m\u001b[0m\n\u001b[0;32m----> 1\u001b[0;31m \u001b[0moptimal_example\u001b[0m\u001b[0;34m(\u001b[0m\u001b[0mdata\u001b[0m\u001b[0;34m,\u001b[0m\u001b[0mstart\u001b[0m\u001b[0;34m=\u001b[0m\u001b[0;36m6\u001b[0m\u001b[0;34m,\u001b[0m\u001b[0mend\u001b[0m\u001b[0;34m=\u001b[0m\u001b[0;36m12\u001b[0m\u001b[0;34m)\u001b[0m\u001b[0;34m\u001b[0m\u001b[0;34m\u001b[0m\u001b[0m\n\u001b[0m",
      "\u001b[0;32m/tmp/ipykernel_99596/2378735407.py\u001b[0m in \u001b[0;36moptimal_example\u001b[0;34m(data, start, end)\u001b[0m\n\u001b[1;32m     16\u001b[0m         \u001b[0mexamples\u001b[0m\u001b[0;34m.\u001b[0m\u001b[0mappend\u001b[0m\u001b[0;34m(\u001b[0m\u001b[0mi\u001b[0m\u001b[0;34m+\u001b[0m\u001b[0;36m1\u001b[0m\u001b[0;34m)\u001b[0m\u001b[0;34m\u001b[0m\u001b[0;34m\u001b[0m\u001b[0m\n\u001b[1;32m     17\u001b[0m         \u001b[0mprompt\u001b[0m \u001b[0;34m=\u001b[0m \u001b[0mprepare_prompt\u001b[0m\u001b[0;34m(\u001b[0m\u001b[0mdata\u001b[0m\u001b[0;34m[\u001b[0m\u001b[0;34m:\u001b[0m\u001b[0mi\u001b[0m\u001b[0;34m+\u001b[0m\u001b[0;36m1\u001b[0m\u001b[0;34m]\u001b[0m\u001b[0;34m,\u001b[0m\u001b[0mquery\u001b[0m\u001b[0;34m)\u001b[0m\u001b[0;34m\u001b[0m\u001b[0;34m\u001b[0m\u001b[0m\n\u001b[0;32m---> 18\u001b[0;31m         \u001b[0mres\u001b[0m \u001b[0;34m=\u001b[0m \u001b[0mextract\u001b[0m\u001b[0;34m.\u001b[0m\u001b[0mpredict\u001b[0m\u001b[0;34m(\u001b[0m\u001b[0mprompt\u001b[0m\u001b[0;34m)\u001b[0m\u001b[0;34m\u001b[0m\u001b[0;34m\u001b[0m\u001b[0m\n\u001b[0m\u001b[1;32m     19\u001b[0m         \u001b[0mres_prep\u001b[0m \u001b[0;34m=\u001b[0m \u001b[0mextract\u001b[0m\u001b[0;34m.\u001b[0m\u001b[0mget_feature\u001b[0m\u001b[0;34m(\u001b[0m\u001b[0mres\u001b[0m\u001b[0;34m)\u001b[0m\u001b[0;34m\u001b[0m\u001b[0;34m\u001b[0m\u001b[0m\n\u001b[1;32m     20\u001b[0m         \u001b[0macc\u001b[0m \u001b[0;34m=\u001b[0m \u001b[0mextract\u001b[0m\u001b[0;34m.\u001b[0m\u001b[0mevaluate\u001b[0m\u001b[0;34m(\u001b[0m\u001b[0mprediction\u001b[0m\u001b[0;34m=\u001b[0m\u001b[0mres_prep\u001b[0m\u001b[0;34m,\u001b[0m\u001b[0mresult\u001b[0m\u001b[0;34m=\u001b[0m\u001b[0mresult\u001b[0m\u001b[0;34m)\u001b[0m\u001b[0;34m\u001b[0m\u001b[0;34m\u001b[0m\u001b[0m\n",
      "\u001b[0;32m~/Documents/10x/Week4/Large_Language_Models/scripts/extract_entities.py\u001b[0m in \u001b[0;36mpredict\u001b[0;34m(self, prompt, model, likelihood)\u001b[0m\n\u001b[1;32m     27\u001b[0m             \u001b[0mk\u001b[0m\u001b[0;34m=\u001b[0m\u001b[0;36m0\u001b[0m\u001b[0;34m,\u001b[0m\u001b[0;34m\u001b[0m\u001b[0;34m\u001b[0m\u001b[0m\n\u001b[1;32m     28\u001b[0m             \u001b[0mp\u001b[0m\u001b[0;34m=\u001b[0m\u001b[0;36m1\u001b[0m\u001b[0;34m,\u001b[0m\u001b[0;34m\u001b[0m\u001b[0;34m\u001b[0m\u001b[0m\n\u001b[0;32m---> 29\u001b[0;31m             return_likelihoods='NONE')\n\u001b[0m\u001b[1;32m     30\u001b[0m \u001b[0;34m\u001b[0m\u001b[0m\n\u001b[1;32m     31\u001b[0m         \u001b[0;32mreturn\u001b[0m \u001b[0mprediction\u001b[0m\u001b[0;34m.\u001b[0m\u001b[0mgenerations\u001b[0m\u001b[0;34m[\u001b[0m\u001b[0;36m0\u001b[0m\u001b[0;34m]\u001b[0m\u001b[0;34m.\u001b[0m\u001b[0mtext\u001b[0m\u001b[0;34m\u001b[0m\u001b[0;34m\u001b[0m\u001b[0m\n",
      "\u001b[0;32m~/anaconda3/envs/issue/lib/python3.7/site-packages/cohere/client.py\u001b[0m in \u001b[0;36mgenerate\u001b[0;34m(self, prompt, model, num_generations, max_tokens, temperature, k, p, frequency_penalty, presence_penalty, stop_sequences, return_likelihoods, truncate)\u001b[0m\n\u001b[1;32m    107\u001b[0m             \u001b[0;34m'truncate'\u001b[0m\u001b[0;34m:\u001b[0m \u001b[0mtruncate\u001b[0m\u001b[0;34m,\u001b[0m\u001b[0;34m\u001b[0m\u001b[0;34m\u001b[0m\u001b[0m\n\u001b[1;32m    108\u001b[0m         })\n\u001b[0;32m--> 109\u001b[0;31m         \u001b[0mresponse\u001b[0m \u001b[0;34m=\u001b[0m \u001b[0mself\u001b[0m\u001b[0;34m.\u001b[0m\u001b[0m__request\u001b[0m\u001b[0;34m(\u001b[0m\u001b[0mjson_body\u001b[0m\u001b[0;34m,\u001b[0m \u001b[0mcohere\u001b[0m\u001b[0;34m.\u001b[0m\u001b[0mGENERATE_URL\u001b[0m\u001b[0;34m)\u001b[0m\u001b[0;34m\u001b[0m\u001b[0;34m\u001b[0m\u001b[0m\n\u001b[0m\u001b[1;32m    110\u001b[0m \u001b[0;34m\u001b[0m\u001b[0m\n\u001b[1;32m    111\u001b[0m         \u001b[0mgenerations\u001b[0m\u001b[0;34m:\u001b[0m \u001b[0mList\u001b[0m\u001b[0;34m[\u001b[0m\u001b[0mGeneration\u001b[0m\u001b[0;34m]\u001b[0m \u001b[0;34m=\u001b[0m \u001b[0;34m[\u001b[0m\u001b[0;34m]\u001b[0m\u001b[0;34m\u001b[0m\u001b[0;34m\u001b[0m\u001b[0m\n",
      "\u001b[0;32m~/anaconda3/envs/issue/lib/python3.7/site-packages/cohere/client.py\u001b[0m in \u001b[0;36m__request\u001b[0;34m(self, json_body, endpoint)\u001b[0m\n\u001b[1;32m    275\u001b[0m                 \u001b[0;32mraise\u001b[0m \u001b[0mCohereError\u001b[0m\u001b[0;34m(\u001b[0m\u001b[0mmessage\u001b[0m\u001b[0;34m=\u001b[0m\u001b[0mresponse\u001b[0m\u001b[0;34m.\u001b[0m\u001b[0mtext\u001b[0m\u001b[0;34m,\u001b[0m \u001b[0mhttp_status\u001b[0m\u001b[0;34m=\u001b[0m\u001b[0mresponse\u001b[0m\u001b[0;34m.\u001b[0m\u001b[0mstatus_code\u001b[0m\u001b[0;34m,\u001b[0m \u001b[0mheaders\u001b[0m\u001b[0;34m=\u001b[0m\u001b[0mresponse\u001b[0m\u001b[0;34m.\u001b[0m\u001b[0mheaders\u001b[0m\u001b[0;34m)\u001b[0m\u001b[0;34m\u001b[0m\u001b[0;34m\u001b[0m\u001b[0m\n\u001b[1;32m    276\u001b[0m             \u001b[0;32mif\u001b[0m \u001b[0;34m'message'\u001b[0m \u001b[0;32min\u001b[0m \u001b[0mres\u001b[0m\u001b[0;34m.\u001b[0m\u001b[0mkeys\u001b[0m\u001b[0;34m(\u001b[0m\u001b[0;34m)\u001b[0m\u001b[0;34m:\u001b[0m  \u001b[0;31m# has errors\u001b[0m\u001b[0;34m\u001b[0m\u001b[0;34m\u001b[0m\u001b[0m\n\u001b[0;32m--> 277\u001b[0;31m                 \u001b[0;32mraise\u001b[0m \u001b[0mCohereError\u001b[0m\u001b[0;34m(\u001b[0m\u001b[0mmessage\u001b[0m\u001b[0;34m=\u001b[0m\u001b[0mres\u001b[0m\u001b[0;34m[\u001b[0m\u001b[0;34m'message'\u001b[0m\u001b[0;34m]\u001b[0m\u001b[0;34m,\u001b[0m \u001b[0mhttp_status\u001b[0m\u001b[0;34m=\u001b[0m\u001b[0mresponse\u001b[0m\u001b[0;34m.\u001b[0m\u001b[0mstatus_code\u001b[0m\u001b[0;34m,\u001b[0m \u001b[0mheaders\u001b[0m\u001b[0;34m=\u001b[0m\u001b[0mresponse\u001b[0m\u001b[0;34m.\u001b[0m\u001b[0mheaders\u001b[0m\u001b[0;34m)\u001b[0m\u001b[0;34m\u001b[0m\u001b[0;34m\u001b[0m\u001b[0m\n\u001b[0m\u001b[1;32m    278\u001b[0m             \u001b[0mself\u001b[0m\u001b[0;34m.\u001b[0m\u001b[0m__print_warning_msg\u001b[0m\u001b[0;34m(\u001b[0m\u001b[0mresponse\u001b[0m\u001b[0;34m)\u001b[0m\u001b[0;34m\u001b[0m\u001b[0;34m\u001b[0m\u001b[0m\n\u001b[1;32m    279\u001b[0m \u001b[0;34m\u001b[0m\u001b[0m\n",
      "\u001b[0;31mCohereError\u001b[0m: too many tokens: total number of tokens (prompt and prediction) cannot exceed 2048 - received 2462. Try using a shorter prompt or a smaller max_tokens value."
     ]
    }
   ],
   "source": [
    "optimal_example(data,start=6,end=12)"
   ]
  },
  {
   "cell_type": "code",
   "execution_count": null,
   "metadata": {},
   "outputs": [],
   "source": []
  },
  {
   "cell_type": "markdown",
   "metadata": {},
   "source": [
    "### as we can see from the above error we can't increase the example size more than 8\n",
    "- also example size 7 shows a good result so we will use that "
   ]
  },
  {
   "cell_type": "code",
   "execution_count": null,
   "metadata": {},
   "outputs": [],
   "source": []
  },
  {
   "cell_type": "markdown",
   "metadata": {},
   "source": [
    "## Which Examples result good performance"
   ]
  },
  {
   "cell_type": "code",
   "execution_count": 21,
   "metadata": {},
   "outputs": [],
   "source": [
    "def which_example(data,start,end):\n",
    "    \"\"\" this method will evaluate which examples result in a good extraction performance\"\"\"\n",
    "    query = data[-2]\n",
    "    extract = extract_entities()\n",
    "    prep = preprocess([query])\n",
    "    result = prep.get_entities(0)\n",
    "    r = prep.get_final_template(0).replace('description:'+result['document']+'\\nExtracted Features:\\n','')\n",
    "    del(result['document'])\n",
    "    \n",
    "    accuracy = []\n",
    "    examples = []\n",
    "    print('label: ')\n",
    "    print(r)\n",
    "    for i in range(start,end):\n",
    "        examples.append(i+1)\n",
    "        prompt = prepare_prompt([data[i]],query)\n",
    "        res = extract.predict(prompt)\n",
    "        res_prep = extract.get_feature(res)\n",
    "        acc = extract.evaluate(prediction=res_prep,result=result)\n",
    "        accuracy.append(acc)\n",
    "        print('-------------\\nexample number:{} '.format(i))\n",
    "        print(res)\n",
    "    "
   ]
  },
  {
   "cell_type": "code",
   "execution_count": 22,
   "metadata": {},
   "outputs": [
    {
     "name": "stdout",
     "output_type": "stream",
     "text": [
      "label: \n",
      "DIPLOMA: BS/MS\n",
      "DIPLOMA_MAJOR: Computer Science\n",
      "EXPERIENCE: 5 + years in industry\n",
      "SKILLS: industry, developing and implementing tools\n",
      "-------------\n",
      "example number:1 \n",
      "\n",
      "DIPLOMA: BS/MS\n",
      "DIPLOMA_MAJOR: Computer Science\n",
      "EXPERIENCE: 5+ years in industry\n",
      "SKILLS: CS fundamentals, technical design, problem solving, debugging,\n",
      "-------------\n",
      "example number:2 \n",
      "\n",
      "DIPLOMA: \n",
      "DIPLOMA_MAJOR: \n",
      "EXPERIENCE: 5+ years in industry\n",
      "SKILLS: CS fundamentals\n",
      "--\n",
      "-------------\n",
      "example number:3 \n",
      "\n",
      "DIPLOMA: \n",
      "DIPLOMA_MAJOR: \n",
      "EXPERIENCE: 5+ years in industry experience developing and implementing tools and applications at scale\n",
      "SKILLS: developing and implementing tools and\n",
      "-------------\n",
      "example number:4 \n",
      "\n",
      "DIPLOMA: BS/MS in Computer Science or equivalent industry experience\n",
      "DIPLOMA_MAJOR: Computer Science\n",
      "EXPERIENCE: 5 + years of industry experience developing and implementing tools and applications at scale\n",
      "-------------\n",
      "example number:5 \n",
      "\n",
      "DIPLOMA: \n",
      "DIPLOMA_MAJOR: \n",
      "EXPERIENCE: 5+ years in industry\n",
      "SKILLS: CS fundamentals, technical design, problem solving\n",
      "--\n",
      "-------------\n",
      "example number:6 \n",
      "\n",
      "DIPLOMA: BS/MS\n",
      "DIPLOMA_MAJOR: CS\n",
      "EXPERIENCE: 5+ years in industry\n",
      "SKILLS: technical design, problem solving, debugging\n",
      "--\n",
      "-------------\n",
      "example number:7 \n",
      "\n",
      "DIPLOMA_MAJOR: Computer Science\n",
      "EXPERIENCE: 5+ years in developing and implementing tools and applications at scale\n",
      "SKILLS: developing and implementing tools and applications at scale\n",
      "--\n",
      "-------------\n",
      "example number:8 \n",
      "\n",
      "DIPLOMA: \n",
      "DIPLOMA_MAJOR: \n",
      "EXPERIENCE: 5 + years in industry experience developing and implementing tools and applications at scale, BS/MS in Computer Science or equivalent industry\n",
      "-------------\n",
      "example number:9 \n",
      "\n",
      "DIPLOMA: BS, MS\n",
      "DIPLOMA_MAJOR: Computer Science, Computer Engineering, Computer Science, Computer Engineering\n",
      "EXPERIENCE: 5 + years in industry, 5 + years in industry experience\n",
      "-------------\n",
      "example number:10 \n",
      "\n",
      "DIPLOMA: BS\n",
      "DIPLOMA_MAJOR: Computer Science, Computer Engineering\n",
      "EXPERIENCE: \n",
      "SKILLS: \n",
      "--\n",
      "-------------\n",
      "example number:11 \n",
      "\n",
      "DIPLOMA: Bachelor\n",
      "DIPLOMA_MAJOR: Computer Science\n",
      "EXPERIENCE: \n",
      "SKILLS: \n",
      "--\n",
      "-------------\n",
      "example number:12 \n",
      "\n",
      "DIPLOMA: \n",
      "DIPLOMA_MAJOR: \n",
      "EXPERIENCE: 5+ years in development\n",
      "SKILLS: development, Java stack, AppConnect, API\n",
      "--\n",
      "-------------\n",
      "example number:13 \n",
      "\n",
      "DIPLOMA: BS/MS\n",
      "DIPLOMA_MAJOR: Computer Science, Computer Engineering\n",
      "EXPERIENCE: 5+ years in industry, 5+ years in developing and implementing tools and applications at scale\n",
      "-------------\n",
      "example number:14 \n",
      "\n",
      "DIPLOMA: BS/MS\n",
      "DIPLOMA_MAJOR: Computer Science\n",
      "EXPERIENCE: 5+ years in industry\n",
      "SKILLS: CS fundamentals, technical design, problem solving\n",
      "--\n",
      "-------------\n",
      "example number:15 \n",
      "\n",
      "DIPLOMA: \n",
      "DIPLOMA_MAJOR: \n",
      "EXPERIENCE: \n",
      "SKILLS: \n",
      "--\n",
      "-------------\n",
      "example number:16 \n",
      "\n",
      "DIPLOMA: \n",
      "DIPLOMA_MAJOR: \n",
      "EXPERIENCE: \n",
      "SKILLS: \n",
      "--\n",
      "-------------\n",
      "example number:17 \n",
      "\n",
      "DIPLOMA: BS/MS\n",
      "DIPLOMA_MAJOR: Computer Science\n",
      "EXPERIENCE: 5+ years in programming\n",
      "SKILLS: programming, code, Java, C++, C#\n",
      "-------------\n",
      "example number:18 \n",
      "\n",
      "DIPLOMA: BS/MS in Computer Science or equivalent industry experience\n",
      "DIPLOMA_MAJOR: Computer Science\n",
      "EXPERIENCE: 5 + years of industry experience developing and implementing tools and applications at scale\n",
      "-------------\n",
      "example number:19 \n",
      "\n",
      "DIPLOMA: Bachelor or Master\n",
      "DIPLOMA_MAJOR: Computer Science, CS\n",
      "EXPERIENCE: 5 years\n",
      "SKILLS: \n",
      "--\n",
      "-------------\n",
      "example number:20 \n",
      "\n",
      "DIPLOMA: BS/MS\n",
      "DIPLOMA_MAJOR: Computer Science\n",
      "EXPERIENCE: 5 + years in industry\n",
      "SKILLS: industry, developing and implementing tools\n",
      "--\n"
     ]
    }
   ],
   "source": [
    "which_example(data,1,len(data)-1)"
   ]
  },
  {
   "cell_type": "code",
   "execution_count": null,
   "metadata": {},
   "outputs": [],
   "source": [
    "# as we can see from the above examples like \n",
    "# [ ]\n",
    "# result a good performance so we will use 7 of such examples for the api"
   ]
  },
  {
   "cell_type": "code",
   "execution_count": 102,
   "metadata": {},
   "outputs": [],
   "source": [
    "good_examples = [9,4,11,17,1,0,21]\n",
    "sample_data = []\n",
    "for i in good_examples:\n",
    "    sample_data.append(data[i])"
   ]
  },
  {
   "cell_type": "code",
   "execution_count": 103,
   "metadata": {},
   "outputs": [
    {
     "data": {
      "text/plain": [
       "7"
      ]
     },
     "execution_count": 103,
     "metadata": {},
     "output_type": "execute_result"
    }
   ],
   "source": [
    "len(sample_data)"
   ]
  },
  {
   "cell_type": "code",
   "execution_count": 104,
   "metadata": {},
   "outputs": [],
   "source": [
    "# Serializing json\n",
    "# for i in sample_data:\n",
    "#     json_object.append(json.dumps(i, indent=4))\n",
    " \n",
    "json_object = json.dumps(sample_data,indent=4)\n",
    "\n",
    "with open('../data/final_sample.json', \"w\") as text_file:\n",
    "                text_file.write(json_object)\n",
    "                # text_file.write('['+','.join(json_object)+']')"
   ]
  },
  {
   "cell_type": "code",
   "execution_count": null,
   "metadata": {},
   "outputs": [],
   "source": []
  }
 ],
 "metadata": {
  "kernelspec": {
   "display_name": "Python 3 (ipykernel)",
   "language": "python",
   "name": "python3"
  },
  "language_info": {
   "codemirror_mode": {
    "name": "ipython",
    "version": 3
   },
   "file_extension": ".py",
   "mimetype": "text/x-python",
   "name": "python",
   "nbconvert_exporter": "python",
   "pygments_lexer": "ipython3",
   "version": "3.9.12"
  },
  "vscode": {
   "interpreter": {
    "hash": "6f5af68d51c57781d0b00fa1a5ec382e98a5ea5ae87a311f64851d69a9e898f0"
   }
  }
 },
 "nbformat": 4,
 "nbformat_minor": 2
}
